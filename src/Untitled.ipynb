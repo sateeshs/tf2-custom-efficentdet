{
 "cells": [
  {
   "cell_type": "code",
   "execution_count": null,
   "id": "dc241de2",
   "metadata": {},
   "outputs": [],
   "source": [
    "## FTC"
   ]
  },
  {
   "cell_type": "code",
   "execution_count": null,
   "id": "65fb78a9",
   "metadata": {},
   "outputs": [],
   "source": []
  }
 ],
 "metadata": {
  "kernelspec": {
   "display_name": "Python 3 (ipykernel)",
   "language": "python",
   "name": "python3"
  }
 },
 "nbformat": 4,
 "nbformat_minor": 5
}
